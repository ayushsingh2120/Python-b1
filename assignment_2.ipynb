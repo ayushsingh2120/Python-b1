{
 "cells": [
  {
   "cell_type": "code",
   "execution_count": 10,
   "id": "9c52f67e-39c8-4a67-ba3c-a421af9276df",
   "metadata": {},
   "outputs": [
    {
     "name": "stdout",
     "output_type": "stream",
     "text": [
      "Goodmorning, Ayush!\n"
     ]
    }
   ],
   "source": [
    "\n",
    "def greet(name, greeting=\"Hello\"):\n",
    "    return f\"{greeting}, {name}!\"\n",
    "\n",
    "\n",
    "greet(\"Ayush\")\n",
    "print(greet(\"Ayush\", \"Goodmorning\"))"
   ]
  },
  {
   "cell_type": "code",
   "execution_count": 11,
   "id": "8b01b3bb",
   "metadata": {},
   "outputs": [
    {
     "name": "stdout",
     "output_type": "stream",
     "text": [
      "Name: Ayush, Age: 18, City: Dehradun\n",
      "Name: Ayush, Age: 20, City: Dehradun\n"
     ]
    }
   ],
   "source": [
    "\n",
    "\n",
    "\n",
    "\n",
    "def createProfile(name,city,age=18):\n",
    "    str =  f\"Name: {name}, Age: {age}, City: {city}\"\n",
    "    return str\n",
    "\n",
    "print(createProfile(name=\"Ayush\", city=\"Dehradun\"))\n",
    "print(createProfile(name=\"Ayush\", age=20, city=\"Dehradun\"))\n",
    "\n",
    "\n"
   ]
  },
  {
   "cell_type": "code",
   "execution_count": 12,
   "id": "dd69ea26",
   "metadata": {},
   "outputs": [
    {
     "data": {
      "text/plain": [
       "(6, {'x': 1, 'y': 2})"
      ]
     },
     "execution_count": 12,
     "metadata": {},
     "output_type": "execute_result"
    }
   ],
   "source": [
    "\n",
    "\n",
    "\n",
    "def sumNumbers(*args, **kwargs):\n",
    "    sum = 0\n",
    "    for arg in args:\n",
    "        sum += arg\n",
    "\n",
    "    return (sum, kwargs)  \n",
    "sumNumbers(1,2,3, x=1,y=2)"
   ]
  },
  {
   "cell_type": "code",
   "execution_count": 13,
   "id": "1f6cf097",
   "metadata": {},
   "outputs": [
    {
     "name": "stdout",
     "output_type": "stream",
     "text": [
      "[25, 36, 49, 64]\n"
     ]
    }
   ],
   "source": [
    "\n",
    "\n",
    "def squareList(l):\n",
    "    squares = map(lambda x: x**2,l)\n",
    "\n",
    "    return list(squares)\n",
    "\n",
    "\n",
    "print(squareList([5,6,7,8]))\n",
    "\n",
    "\n"
   ]
  },
  {
   "cell_type": "code",
   "execution_count": 14,
   "id": "0be7464b",
   "metadata": {},
   "outputs": [
    {
     "name": "stdout",
     "output_type": "stream",
     "text": [
      "[5, 7]\n"
     ]
    }
   ],
   "source": [
    "\n",
    "def filterOddNumber(l):\n",
    "    oddNumbers = filter(lambda x: (x & 1) == 1,l)\n",
    "    return list(oddNumbers)\n",
    "\n",
    "l = [4,5,6,7]\n",
    "print(filterOddNumber(l))\n",
    "\n",
    "\n"
   ]
  },
  {
   "cell_type": "code",
   "execution_count": 15,
   "id": "4deb42f0",
   "metadata": {},
   "outputs": [
    {
     "name": "stdout",
     "output_type": "stream",
     "text": [
      "[1, 4, 9, 16]\n"
     ]
    }
   ],
   "source": [
    "\n",
    "def squared_list(list):\n",
    "    return [x**2 for x in list]\n",
    "\n",
    "print(squared_list([1,2,3,4]))\n",
    "\n",
    "\n"
   ]
  },
  {
   "cell_type": "code",
   "execution_count": 16,
   "id": "b9b44c35",
   "metadata": {},
   "outputs": [
    {
     "name": "stdout",
     "output_type": "stream",
     "text": [
      "[2, 4, 6, 8, 10, 12, 14, 16, 18, 20]\n"
     ]
    }
   ],
   "source": [
    "\n",
    "\n",
    "def createEvenNumbers(a,b):\n",
    "    return [x for x in range(a,b) if (x & 1 == 0)]\n",
    "\n",
    "print(createEvenNumbers(1,21))\n",
    "\n",
    "\n"
   ]
  },
  {
   "cell_type": "code",
   "execution_count": 17,
   "id": "ba01bc51",
   "metadata": {},
   "outputs": [],
   "source": [
    "\n",
    "import os\n",
    "import time as time\n",
    "\n",
    "def fileOperations():\n",
    "    os.makedirs(\"testFolder\")  \n",
    "    time.sleep(3)\n",
    "    os.rmdir(\"testFolder\") \n",
    "\n",
    "fileOperations()"
   ]
  },
  {
   "cell_type": "code",
   "execution_count": 18,
   "id": "867fe481",
   "metadata": {},
   "outputs": [
    {
     "name": "stdout",
     "output_type": "stream",
     "text": [
      "paused execution\n"
     ]
    }
   ],
   "source": [
    "\n",
    "from time import sleep as pause\n",
    "pause(2)\n",
    "print(\"paused execution\")"
   ]
  },
  {
   "cell_type": "code",
   "execution_count": 19,
   "id": "2fe4d37a",
   "metadata": {},
   "outputs": [
    {
     "name": "stdout",
     "output_type": "stream",
     "text": [
      "[1, 2, 3, 4, 5, 6]\n",
      "[1, 2, 3, 4, 5]\n"
     ]
    }
   ],
   "source": [
    "\n",
    "def flatten_list(nested_list):\n",
    "    flat_list = [] \n",
    "    for item in nested_list:\n",
    "        if(isinstance(item,list)):\n",
    "            flat_list.extend(flatten_list(item)) \n",
    "        else:\n",
    "            flat_list.append(item) \n",
    "    \n",
    "    return flat_list\n",
    "\n",
    "print(flatten_list([1, [2, 3], [[4, 5], 6]]))\n",
    "print(flatten_list([[1, 2], [3, [4, [5]]]]))\n",
    "\n",
    "\n"
   ]
  }
 ],
 "metadata": {
  "kernelspec": {
   "display_name": "Python 3 (ipykernel)",
   "language": "python",
   "name": "python3"
  },
  "language_info": {
   "codemirror_mode": {
    "name": "ipython",
    "version": 3
   },
   "file_extension": ".py",
   "mimetype": "text/x-python",
   "name": "python",
   "nbconvert_exporter": "python",
   "pygments_lexer": "ipython3",
   "version": "3.12.6"
  }
 },
 "nbformat": 4,
 "nbformat_minor": 5
}
