{
 "cells": [
  {
   "cell_type": "code",
   "execution_count": 1,
   "id": "3b3dcf30-1ec4-45c8-83d8-625cdd6d53ac",
   "metadata": {},
   "outputs": [],
   "source": [
    "def reverse_string():\n",
    "    a = input(\"Enter first name : \")\n",
    "    b = input(\"Enter last name : \")\n",
    "    c = a + \" \" + b\n",
    "    print(\"String entered: \",c.capitalize())\n",
    "    print(\"Reversed order :\",  b, a)\n",
    "    print(\"Length of string :\", len(c))"
   ]
  },
  {
   "cell_type": "code",
   "execution_count": 2,
   "id": "ca1ac045-60e6-4e6f-b8cc-7f98182e67ce",
   "metadata": {},
   "outputs": [
    {
     "name": "stdout",
     "output_type": "stream",
     "text": [
      "22.0\n",
      "(22+0j)\n"
     ]
    }
   ],
   "source": [
    "num = input(\"Enter a number: \") \n",
    "\n",
    "\n",
    "num = int(num)\n",
    "\n",
    "# to convert this into float\n",
    "num = float(num)\n",
    "print(num)\n",
    "\n",
    "# complex number form\n",
    "num = complex(num)\n",
    "print(num)\n",
    "\n",
    "\n",
    "\n"
   ]
  },
  {
   "cell_type": "code",
   "execution_count": 7,
   "id": "2980bbd9-8809-4af5-b333-fcfa6ee54ebf",
   "metadata": {},
   "outputs": [],
   "source": [
    "def area():\n",
    "    a=int(input(\"Enter length \"))\n",
    "    b=int(input(\"Enter breadth \"))\n",
    "    c=a*b\n",
    "    print(\"Area: \", c)\n",
    "    str(c)\n",
    "    d=format(c, \".2f\")\n",
    "    print(\"Area with 2 decimal places: \",d)\n"
   ]
  },
  {
   "cell_type": "code",
   "execution_count": 8,
   "id": "c9b169ff-d4d5-4eba-9371-dd6144cd45e4",
   "metadata": {},
   "outputs": [
    {
     "name": "stdout",
     "output_type": "stream",
     "text": [
      "Entered number is positive\n"
     ]
    }
   ],
   "source": [
    "num = int(input(\"Enter a number: \"))\n",
    "\n",
    "if num < 0:\n",
    "    print(\"Entered number is negative\")\n",
    "elif num > 0:\n",
    "    print(\"Entered number is positive\")\n",
    "else: \n",
    "    print(\"Entered number is zero\")\n",
    "\n",
    "while 1:\n",
    "    num = input(\"Enter a number: \")\n",
    "    if num == 'exit':\n",
    "        break\n",
    "    else:\n",
    "        continue"
   ]
  },
  {
   "cell_type": "code",
   "execution_count": 6,
   "id": "c27302b2-65d7-4994-a270-71d75fe47411",
   "metadata": {},
   "outputs": [
    {
     "name": "stdout",
     "output_type": "stream",
     "text": [
      "Both numbers are odd\n"
     ]
    }
   ],
   "source": [
    "x = (input(\"Enter x: \"))\n",
    "y = (input(\"Enter y: \"))\n",
    "x = int(x)\n",
    "y  = int(y)\n",
    "\n",
    "if ((x / 2 == 0) and (y / 2 == 0)):\n",
    "    print(\"Both numbers are even\")\n",
    "elif ((x / 2  == 0) and (y / 2 != 0)):\n",
    "    print(\"x is even but y is odd\")\n",
    "elif((x /2  != 0) and (y /2  == 0)):\n",
    "    print(\"x is odd but y is even\")\n",
    "else:\n",
    "    print(\"Both numbers are odd\")\n"
   ]
  }
 ],
 "metadata": {
  "kernelspec": {
   "display_name": "Python 3 (ipykernel)",
   "language": "python",
   "name": "python3"
  },
  "language_info": {
   "codemirror_mode": {
    "name": "ipython",
    "version": 3
   },
   "file_extension": ".py",
   "mimetype": "text/x-python",
   "name": "python",
   "nbconvert_exporter": "python",
   "pygments_lexer": "ipython3",
   "version": "3.12.6"
  }
 },
 "nbformat": 4,
 "nbformat_minor": 5
}
